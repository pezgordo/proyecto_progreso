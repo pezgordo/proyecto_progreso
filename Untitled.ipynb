{
 "cells": [
  {
   "cell_type": "code",
   "execution_count": 3,
   "id": "b99b99e1-f97a-4722-af65-252aee9b978c",
   "metadata": {},
   "outputs": [],
   "source": [
    "import sqlite3\n",
    "import pandas as pd"
   ]
  },
  {
   "cell_type": "code",
   "execution_count": 4,
   "id": "ee2aaee0-c84f-4fb1-90ba-8795ffdda456",
   "metadata": {},
   "outputs": [],
   "source": [
    "# Connect to database\n",
    "conn = sqlite3.connect('progreso.db')\n",
    "\n",
    "# Query everything from movimientos table\n",
    "query = 'SELECT * FROM movimientos'\n",
    "df = pd.read_sql_query(query, conn)"
   ]
  },
  {
   "cell_type": "code",
   "execution_count": 5,
   "id": "7cfa23c7-a307-498d-b22c-29a6a0027995",
   "metadata": {},
   "outputs": [
    {
     "name": "stdout",
     "output_type": "stream",
     "text": [
      "          id    movimiento     tipo_de_movimiento          sucursal  monto  \\\n",
      "0          1   Captaciones  Deposito a Plazo Fijo        La Guardia  24092   \n",
      "1          2   Captaciones      Tarjeta de Debito  Mercado El Torno   8797   \n",
      "2          3  Colocaciones    Credito de Vivienda   Oficina Central   8298   \n",
      "3          4  Colocaciones     Credito de Consumo           Mairana  17077   \n",
      "4          5  Colocaciones          Microcreditos        La Guardia  37975   \n",
      "...      ...           ...                    ...               ...    ...   \n",
      "54656  54657   Captaciones      Tarjeta de Debito        La Guardia   9252   \n",
      "54657  54658   Captaciones         Caja de Ahorro       Vallegrande  20915   \n",
      "54658  54659  Colocaciones          Microcreditos   Oficina Central  33089   \n",
      "54659  54660   Captaciones  Deposito a Plazo Fijo           Cabezas  37062   \n",
      "54660  54661   Captaciones  Deposito a Plazo Fijo  Mercado El Torno  40905   \n",
      "\n",
      "                     fecha  \n",
      "0      2022-12-01 08:07:07  \n",
      "1      2022-10-25 04:41:16  \n",
      "2      2023-05-29 23:37:44  \n",
      "3      2023-06-08 11:59:23  \n",
      "4      2022-03-17 23:59:37  \n",
      "...                    ...  \n",
      "54656  2023-04-02 06:51:37  \n",
      "54657  2022-05-31 03:59:45  \n",
      "54658  2023-11-02 05:31:50  \n",
      "54659  2022-06-21 04:36:02  \n",
      "54660  2023-09-01 02:00:08  \n",
      "\n",
      "[54661 rows x 6 columns]\n"
     ]
    }
   ],
   "source": [
    "print(df)"
   ]
  },
  {
   "cell_type": "code",
   "execution_count": 7,
   "id": "a53542e2-b096-4802-9dc0-d4189a2eb9da",
   "metadata": {},
   "outputs": [],
   "source": [
    "#convertir la columna FECHAS a formato datetime\n",
    "df['fecha'] = pd.to_datetime(df['fecha'])\n",
    "df['Ano'] = df['fecha'].dt.year\n",
    "df['Mes'] = df['fecha'].dt.month\n",
    "df['Dia'] = df['fecha'].dt.day\n",
    "df['Hora'] = df['fecha'].dt.hour\n",
    "df['NombreDia'] = df['fecha'].dt.day_name()"
   ]
  },
  {
   "cell_type": "code",
   "execution_count": 8,
   "id": "8b9ef9b4-5df4-4222-80e4-5fe0e3915bd5",
   "metadata": {
    "scrolled": true
   },
   "outputs": [
    {
     "name": "stdout",
     "output_type": "stream",
     "text": [
      "       Ano  Mes  Dia    movimiento   monto\n",
      "0     2022    1    1   Captaciones   50165\n",
      "1     2022    1    1  Colocaciones  132736\n",
      "2     2022    1    2   Captaciones  255765\n",
      "3     2022    1    2  Colocaciones   62049\n",
      "4     2022    1    3   Captaciones   12693\n",
      "...    ...  ...  ...           ...     ...\n",
      "1451  2023   12   28  Colocaciones   61360\n",
      "1452  2023   12   29   Captaciones  160305\n",
      "1453  2023   12   29  Colocaciones  201910\n",
      "1454  2023   12   30   Captaciones   35282\n",
      "1455  2023   12   30  Colocaciones  152543\n",
      "\n",
      "[1456 rows x 5 columns]\n"
     ]
    }
   ],
   "source": [
    "df_1 = df[df['sucursal']=='Oficina Central']\n",
    "\n",
    "df_2 = df_1.groupby(['Ano', 'Mes', 'Dia', 'movimiento'])['monto'].sum().reset_index()\n",
    "print(df_2)"
   ]
  },
  {
   "cell_type": "code",
   "execution_count": 11,
   "id": "17333212-08ad-4a41-b69b-5a7c4c61aa9d",
   "metadata": {},
   "outputs": [
    {
     "name": "stdout",
     "output_type": "stream",
     "text": [
      "     Ano  Mes    movimiento    monto\n",
      "0   2022    1   Captaciones  4281083\n",
      "1   2022    1  Colocaciones  4515048\n",
      "2   2022    2   Captaciones  3881734\n",
      "3   2022    2  Colocaciones  3817566\n",
      "4   2022    3   Captaciones  4173512\n",
      "5   2022    3  Colocaciones  4315652\n",
      "6   2022    4   Captaciones  5175652\n",
      "7   2022    4  Colocaciones  4126612\n",
      "8   2022    5   Captaciones  4158983\n",
      "9   2022    5  Colocaciones  4479482\n",
      "10  2022    6   Captaciones  4573040\n",
      "11  2022    6  Colocaciones  3375936\n",
      "12  2022    7   Captaciones  4605056\n",
      "13  2022    7  Colocaciones  4029510\n",
      "14  2022    8   Captaciones  4450348\n",
      "15  2022    8  Colocaciones  3886547\n",
      "16  2022    9   Captaciones  3924522\n",
      "17  2022    9  Colocaciones  3401168\n",
      "18  2022   10   Captaciones  3970812\n",
      "19  2022   10  Colocaciones  4658181\n",
      "20  2022   11   Captaciones  4169708\n",
      "21  2022   11  Colocaciones  4733417\n",
      "22  2022   12   Captaciones  4445982\n",
      "23  2022   12  Colocaciones  4957498\n",
      "24  2023    1   Captaciones  4209933\n",
      "25  2023    1  Colocaciones  4033955\n",
      "26  2023    2   Captaciones  3912110\n",
      "27  2023    2  Colocaciones  3825513\n",
      "28  2023    3   Captaciones  4449939\n",
      "29  2023    3  Colocaciones  4383610\n",
      "30  2023    4   Captaciones  4929003\n",
      "31  2023    4  Colocaciones  4040762\n",
      "32  2023    5   Captaciones  4121304\n",
      "33  2023    5  Colocaciones  4705528\n",
      "34  2023    6   Captaciones  4310336\n",
      "35  2023    6  Colocaciones  4264259\n",
      "36  2023    7   Captaciones  4198466\n",
      "37  2023    7  Colocaciones  4650418\n",
      "38  2023    8   Captaciones  4149423\n",
      "39  2023    8  Colocaciones  4560807\n",
      "40  2023    9   Captaciones  3773583\n",
      "41  2023    9  Colocaciones  3871265\n",
      "42  2023   10   Captaciones  4809347\n",
      "43  2023   10  Colocaciones  3480558\n",
      "44  2023   11   Captaciones  3850683\n",
      "45  2023   11  Colocaciones  3660724\n",
      "46  2023   12   Captaciones  4317963\n",
      "47  2023   12  Colocaciones  3485624\n"
     ]
    }
   ],
   "source": [
    "df_by_month = df_1.groupby(['Ano', 'Mes', 'movimiento'])['monto'].sum().reset_index()\n",
    "print(df_by_month)"
   ]
  },
  {
   "cell_type": "code",
   "execution_count": 13,
   "id": "3d7c813e-dbe9-4919-9289-f10f5fdabf7d",
   "metadata": {},
   "outputs": [
    {
     "name": "stdout",
     "output_type": "stream",
     "text": [
      "           movimiento    monto\n",
      "Ano  Mes                      \n",
      "2022 1    Captaciones  4281083\n",
      "     2    Captaciones  3881734\n",
      "     3    Captaciones  4173512\n",
      "     4    Captaciones  5175652\n",
      "     5    Captaciones  4158983\n",
      "     6    Captaciones  4573040\n",
      "     7    Captaciones  4605056\n",
      "     8    Captaciones  4450348\n",
      "     9    Captaciones  3924522\n",
      "     10   Captaciones  3970812\n",
      "     11   Captaciones  4169708\n",
      "     12   Captaciones  4445982\n",
      "2023 1    Captaciones  4209933\n",
      "     2    Captaciones  3912110\n",
      "     3    Captaciones  4449939\n",
      "     4    Captaciones  4929003\n",
      "     5    Captaciones  4121304\n",
      "     6    Captaciones  4310336\n",
      "     7    Captaciones  4198466\n",
      "     8    Captaciones  4149423\n",
      "     9    Captaciones  3773583\n",
      "     10   Captaciones  4809347\n",
      "     11   Captaciones  3850683\n",
      "     12   Captaciones  4317963\n"
     ]
    }
   ],
   "source": [
    "df_by_month_captaciones = df_by_month[(df_by_month['movimiento'] == 'Captaciones') & ('monto' in df_by_month.columns)].groupby(['Ano', 'Mes']).sum()        \n",
    "print(df_by_month_captaciones)"
   ]
  },
  {
   "cell_type": "code",
   "execution_count": 15,
   "id": "2e89e4ee-ea9e-40ca-81a2-03bc31143eed",
   "metadata": {},
   "outputs": [
    {
     "name": "stdout",
     "output_type": "stream",
     "text": [
      "           movimiento    monto  diferencia_mes_anterior\n",
      "Ano  Mes                                               \n",
      "2022 1    Captaciones  4281083                      NaN\n",
      "     2    Captaciones  3881734                -399349.0\n",
      "     3    Captaciones  4173512                 291778.0\n",
      "     4    Captaciones  5175652                1002140.0\n",
      "     5    Captaciones  4158983               -1016669.0\n",
      "     6    Captaciones  4573040                 414057.0\n",
      "     7    Captaciones  4605056                  32016.0\n",
      "     8    Captaciones  4450348                -154708.0\n",
      "     9    Captaciones  3924522                -525826.0\n",
      "     10   Captaciones  3970812                  46290.0\n",
      "     11   Captaciones  4169708                 198896.0\n",
      "     12   Captaciones  4445982                 276274.0\n",
      "2023 1    Captaciones  4209933                -236049.0\n",
      "     2    Captaciones  3912110                -297823.0\n",
      "     3    Captaciones  4449939                 537829.0\n",
      "     4    Captaciones  4929003                 479064.0\n",
      "     5    Captaciones  4121304                -807699.0\n",
      "     6    Captaciones  4310336                 189032.0\n",
      "     7    Captaciones  4198466                -111870.0\n",
      "     8    Captaciones  4149423                 -49043.0\n",
      "     9    Captaciones  3773583                -375840.0\n",
      "     10   Captaciones  4809347                1035764.0\n",
      "     11   Captaciones  3850683                -958664.0\n",
      "     12   Captaciones  4317963                 467280.0\n"
     ]
    }
   ],
   "source": [
    "df_by_month_captaciones['diferencia_mes_anterior'] = df_by_month_captaciones['monto'].diff()\n",
    "print(df_by_month_captaciones)"
   ]
  },
  {
   "cell_type": "code",
   "execution_count": 16,
   "id": "8cd18874-df57-46c3-b6cf-3c824b3667d4",
   "metadata": {},
   "outputs": [
    {
     "name": "stdout",
     "output_type": "stream",
     "text": [
      "           movimiento    monto  diferencia_mes_anterior  diferencia_pct\n",
      "Ano  Mes                                                               \n",
      "2022 1    Captaciones  4281083                      NaN             NaN\n",
      "     2    Captaciones  3881734                -399349.0       -9.328224\n",
      "     3    Captaciones  4173512                 291778.0        7.516692\n",
      "     4    Captaciones  5175652                1002140.0       24.011911\n",
      "     5    Captaciones  4158983               -1016669.0      -19.643303\n",
      "     6    Captaciones  4573040                 414057.0        9.955727\n",
      "     7    Captaciones  4605056                  32016.0        0.700103\n",
      "     8    Captaciones  4450348                -154708.0       -3.359525\n",
      "     9    Captaciones  3924522                -525826.0      -11.815391\n",
      "     10   Captaciones  3970812                  46290.0        1.179507\n",
      "     11   Captaciones  4169708                 198896.0        5.008950\n",
      "     12   Captaciones  4445982                 276274.0        6.625740\n",
      "2023 1    Captaciones  4209933                -236049.0       -5.309266\n",
      "     2    Captaciones  3912110                -297823.0       -7.074293\n",
      "     3    Captaciones  4449939                 537829.0       13.747799\n",
      "     4    Captaciones  4929003                 479064.0       10.765631\n",
      "     5    Captaciones  4121304                -807699.0      -16.386661\n",
      "     6    Captaciones  4310336                 189032.0        4.586704\n",
      "     7    Captaciones  4198466                -111870.0       -2.595389\n",
      "     8    Captaciones  4149423                 -49043.0       -1.168117\n",
      "     9    Captaciones  3773583                -375840.0       -9.057645\n",
      "     10   Captaciones  4809347                1035764.0       27.447760\n",
      "     11   Captaciones  3850683                -958664.0      -19.933351\n",
      "     12   Captaciones  4317963                 467280.0       12.134990\n"
     ]
    }
   ],
   "source": [
    "df_by_month_captaciones['diferencia_pct'] = (df_by_month_captaciones['monto'].pct_change()) * 100\n",
    "print(df_by_month_captaciones)"
   ]
  },
  {
   "cell_type": "code",
   "execution_count": null,
   "id": "b43a471d-f947-471a-9eae-bd06aab1b9a4",
   "metadata": {},
   "outputs": [],
   "source": []
  }
 ],
 "metadata": {
  "kernelspec": {
   "display_name": "Python 3 (ipykernel)",
   "language": "python",
   "name": "python3"
  },
  "language_info": {
   "codemirror_mode": {
    "name": "ipython",
    "version": 3
   },
   "file_extension": ".py",
   "mimetype": "text/x-python",
   "name": "python",
   "nbconvert_exporter": "python",
   "pygments_lexer": "ipython3",
   "version": "3.11.6"
  }
 },
 "nbformat": 4,
 "nbformat_minor": 5
}
