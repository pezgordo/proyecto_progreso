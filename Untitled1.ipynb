{
 "cells": [
  {
   "cell_type": "code",
   "execution_count": 4,
   "id": "f263c848-403c-41ba-8695-5ace862facfb",
   "metadata": {},
   "outputs": [
    {
     "name": "stdout",
     "output_type": "stream",
     "text": [
      "          id    movimiento     tipo_de_movimiento          sucursal  monto  \\\n",
      "0          1   Captaciones  Deposito a Plazo Fijo        La Guardia  24092   \n",
      "1          2   Captaciones      Tarjeta de Debito  Mercado El Torno   8797   \n",
      "2          3  Colocaciones    Credito de Vivienda   Oficina Central   8298   \n",
      "3          4  Colocaciones     Credito de Consumo           Mairana  17077   \n",
      "4          5  Colocaciones          Microcreditos        La Guardia  37975   \n",
      "...      ...           ...                    ...               ...    ...   \n",
      "54656  54657   Captaciones      Tarjeta de Debito        La Guardia   9252   \n",
      "54657  54658   Captaciones         Caja de Ahorro       Vallegrande  20915   \n",
      "54658  54659  Colocaciones          Microcreditos   Oficina Central  33089   \n",
      "54659  54660   Captaciones  Deposito a Plazo Fijo           Cabezas  37062   \n",
      "54660  54661   Captaciones  Deposito a Plazo Fijo  Mercado El Torno  40905   \n",
      "\n",
      "                    fecha   Ano  Mes  Dia  Hora NombreDia  \n",
      "0     2022-12-01 08:07:07  2022   12    1     8  Thursday  \n",
      "1     2022-10-25 04:41:16  2022   10   25     4   Tuesday  \n",
      "2     2023-05-29 23:37:44  2023    5   29    23    Monday  \n",
      "3     2023-06-08 11:59:23  2023    6    8    11  Thursday  \n",
      "4     2022-03-17 23:59:37  2022    3   17    23  Thursday  \n",
      "...                   ...   ...  ...  ...   ...       ...  \n",
      "54656 2023-04-02 06:51:37  2023    4    2     6    Sunday  \n",
      "54657 2022-05-31 03:59:45  2022    5   31     3   Tuesday  \n",
      "54658 2023-11-02 05:31:50  2023   11    2     5  Thursday  \n",
      "54659 2022-06-21 04:36:02  2022    6   21     4   Tuesday  \n",
      "54660 2023-09-01 02:00:08  2023    9    1     2    Friday  \n",
      "\n",
      "[54661 rows x 11 columns]\n"
     ]
    }
   ],
   "source": [
    "import sqlite3\n",
    "import pandas as pd\n",
    "\n",
    "# Connect to database\n",
    "conn = sqlite3.connect('progreso.db')\n",
    "\n",
    "# Query everything from movimientos table\n",
    "query = 'SELECT * FROM movimientos'\n",
    "df = pd.read_sql_query(query, conn)\n",
    "\n",
    "#convertir la columna FECHAS a formato datetime\n",
    "df['fecha'] = pd.to_datetime(df['fecha'])\n",
    "df['Ano'] = df['fecha'].dt.year\n",
    "df['Mes'] = df['fecha'].dt.month\n",
    "df['Dia'] = df['fecha'].dt.day\n",
    "df['Hora'] = df['fecha'].dt.hour\n",
    "df['NombreDia'] = df['fecha'].dt.day_name()\n",
    "\n",
    "\n",
    "print(df)"
   ]
  },
  {
   "cell_type": "code",
   "execution_count": 77,
   "id": "18c41b9f-54ce-4948-9d0c-54c8734084b6",
   "metadata": {},
   "outputs": [
    {
     "name": "stdout",
     "output_type": "stream",
     "text": [
      "      Ano  Mes          sucursal   movimiento    monto\n",
      "0    2022    1           Cabezas  Captaciones  3678934\n",
      "1    2022    1        La Guardia  Captaciones  3826345\n",
      "2    2022    1           Mairana  Captaciones  4078770\n",
      "3    2022    1  Mercado El Torno  Captaciones  4464241\n",
      "4    2022    1              Mora  Captaciones  4324397\n",
      "..    ...  ...               ...          ...      ...\n",
      "163  2023   12           Mairana  Captaciones  3144501\n",
      "164  2023   12  Mercado El Torno  Captaciones  4083975\n",
      "165  2023   12              Mora  Captaciones  4651333\n",
      "166  2023   12   Oficina Central  Captaciones  4317963\n",
      "167  2023   12       Vallegrande  Captaciones  4325041\n",
      "\n",
      "[168 rows x 5 columns]\n"
     ]
    }
   ],
   "source": [
    "# Select 'movimiento' type\n",
    "df_1 = df[df['movimiento']=='Captaciones']\n",
    "\n",
    "# Groupby and sum monto\n",
    "df_2_sum = df_1.groupby(['Ano', 'Mes', 'sucursal', 'movimiento'])['monto'].sum().reset_index()\n",
    "\n",
    "# Select year and month\n",
    "df_3 = df_2_sum[(df_2_sum['Ano']==2023) & (df_2_sum['Mes']==1)]\n",
    "#print(df_3)\n",
    "\n",
    "\n",
    "df_2_mean = df_1.groupby(['Ano', 'Mes', 'sucursal', 'movimiento'])['monto'].sum().reset_index()\n",
    "df_3_mean =  df_2_mean[(df_2_sum['Ano']==2023) & (df_2_mean['Mes']==1)]\n",
    "df_4_mean = df_3_mean['monto'].sum()\n",
    "df_5_mean = df_3_mean['monto'].mean()\n",
    "\n",
    "df_3_sorted = df_3_mean.sort_values(by='monto', ascending=False)\n",
    "\n",
    "print(df_2_mean)"
   ]
  },
  {
   "cell_type": "code",
   "execution_count": 67,
   "id": "25146aab-1159-4e1f-989b-eafb82d4b7fc",
   "metadata": {},
   "outputs": [
    {
     "name": "stdout",
     "output_type": "stream",
     "text": [
      "4245071.142857143\n"
     ]
    }
   ],
   "source": [
    "print(df_4_mean / 7)"
   ]
  },
  {
   "cell_type": "code",
   "execution_count": 68,
   "id": "1226b188-2ed7-493d-bf49-0b638173b173",
   "metadata": {},
   "outputs": [
    {
     "name": "stdout",
     "output_type": "stream",
     "text": [
      "4245071.142857143\n"
     ]
    }
   ],
   "source": [
    "print(df_5_mean)"
   ]
  },
  {
   "cell_type": "code",
   "execution_count": 74,
   "id": "544efed0-50c7-4d5c-b4eb-d6f888cf1981",
   "metadata": {},
   "outputs": [
    {
     "name": "stdout",
     "output_type": "stream",
     "text": [
      "     Ano  Mes          sucursal   movimiento    monto\n",
      "87  2023    1  Mercado El Torno  Captaciones  4692781\n",
      "84  2023    1           Cabezas  Captaciones  4516510\n",
      "85  2023    1        La Guardia  Captaciones  4243483\n",
      "89  2023    1   Oficina Central  Captaciones  4209933\n",
      "86  2023    1           Mairana  Captaciones  4141008\n",
      "88  2023    1              Mora  Captaciones  4008086\n",
      "90  2023    1       Vallegrande  Captaciones  3903697\n"
     ]
    }
   ],
   "source": [
    "print(df_3_sorted)"
   ]
  },
  {
   "cell_type": "code",
   "execution_count": 78,
   "id": "f156fab2-40de-4b1e-8ecc-09b4254a73e2",
   "metadata": {},
   "outputs": [
    {
     "name": "stdout",
     "output_type": "stream",
     "text": [
      "            sucursal    monto\n",
      "87  Mercado El Torno  4692781\n",
      "84           Cabezas  4516510\n",
      "85        La Guardia  4243483\n",
      "89   Oficina Central  4209933\n",
      "86           Mairana  4141008\n",
      "88              Mora  4008086\n",
      "90       Vallegrande  3903697\n"
     ]
    }
   ],
   "source": [
    "selected_columns = ['sucursal', 'monto']\n",
    "df_selected_columns = df_3_sorted[selected_columns]\n",
    "print(df_selected_columns)"
   ]
  },
  {
   "cell_type": "code",
   "execution_count": null,
   "id": "729bb376-e20b-4b70-b34b-7af0fd063c4f",
   "metadata": {},
   "outputs": [],
   "source": []
  }
 ],
 "metadata": {
  "kernelspec": {
   "display_name": "Python 3 (ipykernel)",
   "language": "python",
   "name": "python3"
  },
  "language_info": {
   "codemirror_mode": {
    "name": "ipython",
    "version": 3
   },
   "file_extension": ".py",
   "mimetype": "text/x-python",
   "name": "python",
   "nbconvert_exporter": "python",
   "pygments_lexer": "ipython3",
   "version": "3.11.6"
  }
 },
 "nbformat": 4,
 "nbformat_minor": 5
}
